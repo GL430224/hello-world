{
  "cells": [
    {
      "cell_type": "code",
      "execution_count": null,
      "metadata": {
        "id": "A26IPMMIjTyH"
      },
      "outputs": [],
      "source": [
        "# For tips on running notebooks in Google Colab, see\n",
        "# https://pytorch.org/tutorials/beginner/colab\n",
        "%matplotlib inline"
      ]
    },
    {
      "cell_type": "markdown",
      "metadata": {
        "id": "yvEJBdfEjTyI"
      },
      "source": [
        "[Learn the Basics](intro.html) \\|\\|\n",
        "[Quickstart](quickstart_tutorial.html) \\|\\|\n",
        "[Tensors](tensorqs_tutorial.html) \\|\\| [Datasets &\n",
        "DataLoaders](data_tutorial.html) \\|\\|\n",
        "[Transforms](transforms_tutorial.html) \\|\\| **Build Model** \\|\\|\n",
        "[Autograd](autogradqs_tutorial.html) \\|\\|\n",
        "[Optimization](optimization_tutorial.html) \\|\\| [Save & Load\n",
        "Model](saveloadrun_tutorial.html)\n",
        "\n",
        "Build the Neural Network\n",
        "========================\n",
        "\n",
        "Neural networks comprise of layers/modules that perform operations on\n",
        "data. The [torch.nn](https://pytorch.org/docs/stable/nn.html) namespace\n",
        "provides all the building blocks you need to build your own neural\n",
        "network. Every module in PyTorch subclasses the\n",
        "[nn.Module](https://pytorch.org/docs/stable/generated/torch.nn.Module.html).\n",
        "A neural network is a module itself that consists of other modules\n",
        "(layers). This nested structure allows for building and managing complex\n",
        "architectures easily.\n",
        "\n",
        "In the following sections, we\\'ll build a neural network to classify\n",
        "images in the FashionMNIST dataset.\n"
      ]
    },
    {
      "cell_type": "code",
      "execution_count": 1,
      "metadata": {
        "id": "o8R4qBvgjTyJ"
      },
      "outputs": [],
      "source": [
        "import os\n",
        "import torch\n",
        "from torch import nn\n",
        "from torch.utils.data import DataLoader\n",
        "from torchvision import datasets, transforms"
      ]
    },
    {
      "cell_type": "markdown",
      "metadata": {
        "id": "OjU3INY3jTyJ"
      },
      "source": [
        "Get Device for Training\n",
        "=======================\n",
        "\n",
        "We want to be able to train our model on an\n",
        "[accelerator](https://pytorch.org/docs/stable/torch.html#accelerators)\n",
        "such as CUDA, MPS, MTIA, or XPU. If the current accelerator is\n",
        "available, we will use it. Otherwise, we use the CPU.\n"
      ]
    },
    {
      "cell_type": "code",
      "execution_count": 2,
      "metadata": {
        "colab": {
          "base_uri": "https://localhost:8080/"
        },
        "id": "_C3jsNvjjTyJ",
        "outputId": "2f8b7901-46c3-4241-c925-0b8f3951e137"
      },
      "outputs": [
        {
          "output_type": "stream",
          "name": "stdout",
          "text": [
            "Using cpu device\n"
          ]
        }
      ],
      "source": [
        "device = torch.accelerator.current_accelerator().type if torch.accelerator.is_available() else \"cpu\"\n",
        "print(f\"Using {device} device\")"
      ]
    },
    {
      "cell_type": "markdown",
      "metadata": {
        "id": "Z_J76JnijTyJ"
      },
      "source": [
        "Define the Class\n",
        "================\n",
        "\n",
        "We define our neural network by subclassing `nn.Module`, and initialize\n",
        "the neural network layers in `__init__`. Every `nn.Module` subclass\n",
        "implements the operations on input data in the `forward` method.\n"
      ]
    },
    {
      "cell_type": "code",
      "execution_count": 3,
      "metadata": {
        "id": "idkuiKySjTyK"
      },
      "outputs": [],
      "source": [
        "class NeuralNetwork(nn.Module):\n",
        "    def __init__(self):\n",
        "        super().__init__()\n",
        "        self.flatten = nn.Flatten()\n",
        "        self.linear_relu_stack = nn.Sequential(\n",
        "            nn.Linear(28*28, 512),\n",
        "            nn.ReLU(),\n",
        "            nn.Linear(512, 512),\n",
        "            nn.ReLU(),\n",
        "            nn.Linear(512, 10),\n",
        "        )\n",
        "\n",
        "    def forward(self, x):\n",
        "        x = self.flatten(x)\n",
        "        logits = self.linear_relu_stack(x)\n",
        "        return logits"
      ]
    },
    {
      "cell_type": "markdown",
      "metadata": {
        "id": "8kserZ3WjTyK"
      },
      "source": [
        "We create an instance of `NeuralNetwork`, and move it to the `device`,\n",
        "and print its structure.\n"
      ]
    },
    {
      "cell_type": "code",
      "execution_count": 4,
      "metadata": {
        "colab": {
          "base_uri": "https://localhost:8080/"
        },
        "id": "4nuQA0yxjTyK",
        "outputId": "ea431c58-3fda-49e5-b629-e8809216e65c"
      },
      "outputs": [
        {
          "output_type": "stream",
          "name": "stdout",
          "text": [
            "NeuralNetwork(\n",
            "  (flatten): Flatten(start_dim=1, end_dim=-1)\n",
            "  (linear_relu_stack): Sequential(\n",
            "    (0): Linear(in_features=784, out_features=512, bias=True)\n",
            "    (1): ReLU()\n",
            "    (2): Linear(in_features=512, out_features=512, bias=True)\n",
            "    (3): ReLU()\n",
            "    (4): Linear(in_features=512, out_features=10, bias=True)\n",
            "  )\n",
            ")\n"
          ]
        }
      ],
      "source": [
        "model = NeuralNetwork().to(device)\n",
        "print(model)"
      ]
    },
    {
      "cell_type": "markdown",
      "metadata": {
        "id": "9rKtMdFFjTyL"
      },
      "source": [
        "To use the model, we pass it the input data. This executes the model\\'s\n",
        "`forward`, along with some [background\n",
        "operations](https://github.com/pytorch/pytorch/blob/270111b7b611d174967ed204776985cefca9c144/torch/nn/modules/module.py#L866).\n",
        "Do not call `model.forward()` directly!\n",
        "\n",
        "Calling the model on the input returns a 2-dimensional tensor with dim=0\n",
        "corresponding to each output of 10 raw predicted values for each class,\n",
        "and dim=1 corresponding to the individual values of each output. We get\n",
        "the prediction probabilities by passing it through an instance of the\n",
        "`nn.Softmax` module.\n"
      ]
    },
    {
      "cell_type": "code",
      "execution_count": 5,
      "metadata": {
        "colab": {
          "base_uri": "https://localhost:8080/"
        },
        "id": "W6rYUWeujTyL",
        "outputId": "59e8665b-3664-415a-ad5f-8a07cd35222e"
      },
      "outputs": [
        {
          "output_type": "stream",
          "name": "stdout",
          "text": [
            "Predicted class: tensor([6])\n"
          ]
        }
      ],
      "source": [
        "X = torch.rand(1, 28, 28, device=device)\n",
        "logits = model(X)\n",
        "pred_probab = nn.Softmax(dim=1)(logits)\n",
        "y_pred = pred_probab.argmax(1)\n",
        "print(f\"Predicted class: {y_pred}\")"
      ]
    },
    {
      "cell_type": "markdown",
      "metadata": {
        "id": "Xp-8Cd5njTyL"
      },
      "source": [
        "------------------------------------------------------------------------\n"
      ]
    },
    {
      "cell_type": "markdown",
      "metadata": {
        "id": "Xi2pVUyGjTyL"
      },
      "source": [
        "Model Layers\n",
        "============\n",
        "\n",
        "Let\\'s break down the layers in the FashionMNIST model. To illustrate\n",
        "it, we will take a sample minibatch of 3 images of size 28x28 and see\n",
        "what happens to it as we pass it through the network.\n"
      ]
    },
    {
      "cell_type": "code",
      "execution_count": 6,
      "metadata": {
        "colab": {
          "base_uri": "https://localhost:8080/"
        },
        "id": "UlVQzHyOjTyM",
        "outputId": "cc7dc7b1-d7b8-4667-ae6b-5aaecbc0d350"
      },
      "outputs": [
        {
          "output_type": "stream",
          "name": "stdout",
          "text": [
            "torch.Size([3, 28, 28])\n"
          ]
        }
      ],
      "source": [
        "input_image = torch.rand(3,28,28)\n",
        "print(input_image.size())"
      ]
    },
    {
      "cell_type": "code",
      "source": [
        "print(input_image[0,:,:])"
      ],
      "metadata": {
        "id": "f7YgM_Vz1-z1",
        "outputId": "e9b8501d-cdd7-43bf-a893-b6c524f180df",
        "colab": {
          "base_uri": "https://localhost:8080/"
        }
      },
      "execution_count": 17,
      "outputs": [
        {
          "output_type": "stream",
          "name": "stdout",
          "text": [
            "tensor([[0.1135, 0.3164, 0.8281, 0.4287, 0.5358, 0.2895, 0.1469, 0.1261, 0.9152,\n",
            "         0.4554, 0.5903, 0.6484, 0.3690, 0.6503, 0.7353, 0.6353, 0.2531, 0.1727,\n",
            "         0.0422, 0.6580, 0.8446, 0.9510, 0.8699, 0.4595, 0.3337, 0.5957, 0.4962,\n",
            "         0.6378],\n",
            "        [0.8947, 0.2226, 0.5206, 0.3192, 0.1897, 0.0930, 0.3995, 0.4421, 0.4678,\n",
            "         0.1840, 0.9274, 0.1405, 0.9438, 0.3619, 0.1571, 0.1173, 0.9463, 0.9152,\n",
            "         0.8144, 0.3443, 0.1758, 0.3623, 0.8519, 0.7817, 0.7083, 0.9608, 0.7351,\n",
            "         0.8836],\n",
            "        [0.8643, 0.7474, 0.8914, 0.7392, 0.6260, 0.1055, 0.8378, 0.8720, 0.1033,\n",
            "         0.0695, 0.8465, 0.1824, 0.2974, 0.6578, 0.8705, 0.8257, 0.0951, 0.5630,\n",
            "         0.7993, 0.0257, 0.6355, 0.2804, 0.2704, 0.9936, 0.3917, 0.4255, 0.8408,\n",
            "         0.2419],\n",
            "        [0.7235, 0.9931, 0.8618, 0.0099, 0.3404, 0.8504, 0.4706, 0.5057, 0.8969,\n",
            "         0.4246, 0.5233, 0.4289, 0.7911, 0.9999, 0.6711, 0.0439, 0.3083, 0.4495,\n",
            "         0.4261, 0.0715, 0.6632, 0.0472, 0.7078, 0.8399, 0.5325, 0.9489, 0.9897,\n",
            "         0.8938],\n",
            "        [0.2557, 0.9458, 0.2499, 0.4720, 0.2674, 0.2550, 0.1197, 0.9501, 0.4634,\n",
            "         0.5433, 0.7766, 0.2441, 0.8037, 0.1720, 0.2813, 0.4323, 0.2669, 0.8457,\n",
            "         0.0577, 0.1467, 0.0631, 0.4731, 0.0542, 0.4881, 0.1524, 0.6465, 0.5926,\n",
            "         0.7595],\n",
            "        [0.6151, 0.8661, 0.9223, 0.2078, 0.8887, 0.2963, 0.3736, 0.1146, 0.0621,\n",
            "         0.2557, 0.7372, 0.4492, 0.8410, 0.9406, 0.2898, 0.4772, 0.4343, 0.1013,\n",
            "         0.7354, 0.8471, 0.1317, 0.2474, 0.9978, 0.3718, 0.2679, 0.2212, 0.5673,\n",
            "         0.6105],\n",
            "        [0.8009, 0.9130, 0.8583, 0.6353, 0.0378, 0.5076, 0.7006, 0.5277, 0.2298,\n",
            "         0.3042, 0.5421, 0.2766, 0.0271, 0.9327, 0.4036, 0.2898, 0.8553, 0.9105,\n",
            "         0.7811, 0.7438, 0.0162, 0.2628, 0.3314, 0.8516, 0.8874, 0.5660, 0.9214,\n",
            "         0.6636],\n",
            "        [0.8977, 0.8239, 0.1860, 0.8082, 0.4413, 0.9117, 0.8877, 0.4006, 0.0035,\n",
            "         0.6244, 0.6838, 0.8544, 0.0862, 0.5727, 0.8549, 0.1600, 0.3288, 0.4080,\n",
            "         0.5411, 0.6807, 0.0602, 0.2428, 0.6199, 0.4233, 0.6061, 0.3750, 0.9503,\n",
            "         0.7960],\n",
            "        [0.0911, 0.4752, 0.5839, 0.2651, 0.6420, 0.7567, 0.9962, 0.4685, 0.2187,\n",
            "         0.0254, 0.6177, 0.0919, 0.5694, 0.5018, 0.0603, 0.6030, 0.0257, 0.6889,\n",
            "         0.6621, 0.9607, 0.1179, 0.5858, 0.5538, 0.5049, 0.9338, 0.1412, 0.0198,\n",
            "         0.2477],\n",
            "        [0.1373, 0.3208, 0.0557, 0.0319, 0.6164, 0.2220, 0.8896, 0.3832, 0.9841,\n",
            "         0.0655, 0.5873, 0.4718, 0.0678, 0.6384, 0.9631, 0.8955, 0.1353, 0.8355,\n",
            "         0.2687, 0.2937, 0.3965, 0.1570, 0.2718, 0.0555, 0.7202, 0.7624, 0.6011,\n",
            "         0.7295],\n",
            "        [0.9541, 0.2208, 0.4881, 0.0083, 0.8873, 0.9261, 0.5039, 0.0851, 0.7936,\n",
            "         0.5327, 0.6910, 0.9263, 0.7292, 0.8597, 0.3227, 0.7951, 0.7804, 0.1822,\n",
            "         0.8153, 0.5307, 0.7153, 0.5935, 0.1469, 0.4757, 0.3882, 0.8852, 0.8860,\n",
            "         0.7792],\n",
            "        [0.5378, 0.6878, 0.2812, 0.7763, 0.9412, 0.2526, 0.2812, 0.2829, 0.4599,\n",
            "         0.2667, 0.1471, 0.3216, 0.3752, 0.7839, 0.8954, 0.2948, 0.6383, 0.5369,\n",
            "         0.1923, 0.7462, 0.6019, 0.7058, 0.9320, 0.7098, 0.1072, 0.0497, 0.8801,\n",
            "         0.4909],\n",
            "        [0.5525, 0.4219, 0.7005, 0.9618, 0.7956, 0.1384, 0.5971, 0.0884, 0.6665,\n",
            "         0.0092, 0.7378, 0.4615, 0.0529, 0.7707, 0.0875, 0.1739, 0.2984, 0.1932,\n",
            "         0.9296, 0.4004, 0.4968, 0.0888, 0.1766, 0.4845, 0.7081, 0.3117, 0.7402,\n",
            "         0.4217],\n",
            "        [0.7423, 0.5527, 0.7745, 0.8149, 0.5638, 0.7669, 0.7083, 0.6102, 0.5079,\n",
            "         0.7657, 0.4286, 0.7182, 0.4858, 0.8809, 0.5468, 0.9286, 0.1304, 0.6281,\n",
            "         0.6883, 0.3037, 0.5399, 0.6552, 0.6716, 0.0517, 0.6951, 0.4210, 0.8042,\n",
            "         0.0670],\n",
            "        [0.0246, 0.8230, 0.1907, 0.7880, 0.6250, 0.4788, 0.2040, 0.1431, 0.3948,\n",
            "         0.6130, 0.4573, 0.8528, 0.2184, 0.0249, 0.9131, 0.7033, 0.9421, 0.9172,\n",
            "         0.2898, 0.0480, 0.1267, 0.3077, 0.7577, 0.7090, 0.9489, 0.4482, 0.9228,\n",
            "         0.3894],\n",
            "        [0.3371, 0.6610, 0.8807, 0.1366, 0.9043, 0.1544, 0.7725, 0.3229, 0.1360,\n",
            "         0.0256, 0.1241, 0.2532, 0.3659, 0.7758, 0.9246, 0.6939, 0.1352, 0.3879,\n",
            "         0.6526, 0.4293, 0.0123, 0.9148, 0.4433, 0.3449, 0.2903, 0.7179, 0.0385,\n",
            "         0.0571],\n",
            "        [0.8756, 0.7162, 0.6857, 0.3726, 0.9949, 0.1173, 0.2453, 0.9210, 0.0298,\n",
            "         0.2443, 0.3061, 0.1687, 0.5750, 0.4242, 0.1806, 0.1190, 0.6166, 0.2270,\n",
            "         0.4001, 0.6023, 0.7506, 0.9456, 0.1257, 0.1974, 0.1833, 0.0915, 0.9642,\n",
            "         0.0905],\n",
            "        [0.5256, 0.8594, 0.3397, 0.3161, 0.1177, 0.7005, 0.2776, 0.6664, 0.9754,\n",
            "         0.5588, 0.8457, 0.6147, 0.3704, 0.8479, 0.7358, 0.5710, 0.0079, 0.4379,\n",
            "         0.6604, 0.3217, 0.1352, 0.4828, 0.8130, 0.8440, 0.1685, 0.2097, 0.4601,\n",
            "         0.1695],\n",
            "        [0.7318, 0.4919, 0.8944, 0.8834, 0.2632, 0.0029, 0.1731, 0.6568, 0.2757,\n",
            "         0.4521, 0.9913, 0.2043, 0.7947, 0.5660, 0.6429, 0.4656, 0.9726, 0.4821,\n",
            "         0.5280, 0.0454, 0.0486, 0.3710, 0.4344, 0.9959, 0.6492, 0.6735, 0.1892,\n",
            "         0.3936],\n",
            "        [0.9884, 0.6001, 0.1771, 0.3021, 0.9333, 0.5408, 0.5383, 0.9960, 0.5805,\n",
            "         0.6564, 0.3401, 0.2244, 0.9653, 0.8831, 0.8161, 0.2734, 0.0341, 0.7023,\n",
            "         0.4266, 0.7860, 0.8450, 0.6382, 0.0446, 0.1439, 0.2975, 0.0605, 0.0053,\n",
            "         0.0827],\n",
            "        [0.5760, 0.5455, 0.9203, 0.7965, 0.3852, 0.2179, 0.4352, 0.7238, 0.1473,\n",
            "         0.0978, 0.2104, 0.2200, 0.8037, 0.4661, 0.3387, 0.2800, 0.5552, 0.0394,\n",
            "         0.7826, 0.9816, 0.6789, 0.9993, 0.6614, 0.6654, 0.3825, 0.9313, 0.8493,\n",
            "         0.0472],\n",
            "        [0.9830, 0.0368, 0.6586, 0.1669, 0.2799, 0.2126, 0.2650, 0.6776, 0.4682,\n",
            "         0.1664, 0.7675, 0.7535, 0.0586, 0.1813, 0.2030, 0.9856, 0.5954, 0.9312,\n",
            "         0.1823, 0.7384, 0.4088, 0.7929, 0.8441, 0.6641, 0.7805, 0.4398, 0.8696,\n",
            "         0.2708],\n",
            "        [0.2169, 0.3349, 0.6575, 0.0971, 0.6484, 0.7940, 0.5180, 0.9604, 0.2872,\n",
            "         0.0454, 0.0303, 0.3477, 0.0800, 0.9748, 0.5520, 0.1710, 0.3408, 0.9902,\n",
            "         0.1742, 0.4395, 0.4519, 0.7332, 0.3090, 0.6912, 0.0043, 0.2806, 0.6175,\n",
            "         0.8212],\n",
            "        [0.0898, 0.7647, 0.1262, 0.4778, 0.5729, 0.7416, 0.1142, 0.6235, 0.1579,\n",
            "         0.1607, 0.7628, 0.0349, 0.8234, 0.8700, 0.2821, 0.1810, 0.1751, 0.2510,\n",
            "         0.3883, 0.0644, 0.3280, 0.3352, 0.3656, 0.2821, 0.6868, 0.0032, 0.9203,\n",
            "         0.7251],\n",
            "        [0.7052, 0.8378, 0.6655, 0.7505, 0.3385, 0.9619, 0.4401, 0.0130, 0.7426,\n",
            "         0.9446, 0.3843, 0.5716, 0.8219, 0.2368, 0.0742, 0.7723, 0.5936, 0.4556,\n",
            "         0.0709, 0.1216, 0.9658, 0.1995, 0.7133, 0.8094, 0.4459, 0.6268, 0.9869,\n",
            "         0.1499],\n",
            "        [0.3210, 0.2226, 0.2095, 0.6067, 0.6275, 0.0980, 0.6605, 0.2541, 0.5921,\n",
            "         0.5783, 0.5962, 0.0133, 0.1885, 0.8671, 0.7043, 0.9182, 0.8798, 0.8919,\n",
            "         0.6236, 0.0113, 0.1704, 0.5935, 0.7288, 0.2387, 0.4718, 0.4032, 0.4006,\n",
            "         0.7062],\n",
            "        [0.8027, 0.9252, 0.6259, 0.4082, 0.0628, 0.2066, 0.5448, 0.8213, 0.0068,\n",
            "         0.2603, 0.1852, 0.3380, 0.2763, 0.8884, 0.7104, 0.9818, 0.7779, 0.9080,\n",
            "         0.4039, 0.3042, 0.3753, 0.1711, 0.3930, 0.6052, 0.3379, 0.8292, 0.6305,\n",
            "         0.7683],\n",
            "        [0.8884, 0.7473, 0.8838, 0.5306, 0.5328, 0.6356, 0.3147, 0.5539, 0.1463,\n",
            "         0.8186, 0.5168, 0.1927, 0.2990, 0.7444, 0.5213, 0.2499, 0.4462, 0.3506,\n",
            "         0.1123, 0.4031, 0.1267, 0.8984, 0.8912, 0.6633, 0.7014, 0.0377, 0.3645,\n",
            "         0.6664]])\n"
          ]
        }
      ]
    },
    {
      "cell_type": "markdown",
      "metadata": {
        "id": "OChDuioFjTyM"
      },
      "source": [
        "nn.Flatten\n",
        "==========\n",
        "\n",
        "We initialize the\n",
        "[nn.Flatten](https://pytorch.org/docs/stable/generated/torch.nn.Flatten.html)\n",
        "layer to convert each 2D 28x28 image into a contiguous array of 784\n",
        "pixel values ( the minibatch dimension (at dim=0) is maintained).\n"
      ]
    },
    {
      "cell_type": "code",
      "execution_count": 18,
      "metadata": {
        "colab": {
          "base_uri": "https://localhost:8080/"
        },
        "id": "k9TrO1PRjTyM",
        "outputId": "9b88ebc9-ee7b-4b63-f09c-32790e60d4b7"
      },
      "outputs": [
        {
          "output_type": "stream",
          "name": "stdout",
          "text": [
            "torch.Size([3, 784])\n",
            "tensor([0.1135, 0.3164, 0.8281, 0.4287, 0.5358, 0.2895, 0.1469, 0.1261, 0.9152,\n",
            "        0.4554, 0.5903, 0.6484, 0.3690, 0.6503, 0.7353, 0.6353, 0.2531, 0.1727,\n",
            "        0.0422, 0.6580, 0.8446, 0.9510, 0.8699, 0.4595, 0.3337, 0.5957, 0.4962,\n",
            "        0.6378, 0.8947, 0.2226, 0.5206, 0.3192, 0.1897, 0.0930, 0.3995, 0.4421,\n",
            "        0.4678, 0.1840, 0.9274, 0.1405, 0.9438, 0.3619, 0.1571, 0.1173, 0.9463,\n",
            "        0.9152, 0.8144, 0.3443, 0.1758, 0.3623, 0.8519, 0.7817, 0.7083, 0.9608,\n",
            "        0.7351, 0.8836, 0.8643, 0.7474, 0.8914, 0.7392, 0.6260, 0.1055, 0.8378,\n",
            "        0.8720, 0.1033, 0.0695, 0.8465, 0.1824, 0.2974, 0.6578, 0.8705, 0.8257,\n",
            "        0.0951, 0.5630, 0.7993, 0.0257, 0.6355, 0.2804, 0.2704, 0.9936, 0.3917,\n",
            "        0.4255, 0.8408, 0.2419, 0.7235, 0.9931, 0.8618, 0.0099, 0.3404, 0.8504,\n",
            "        0.4706, 0.5057, 0.8969, 0.4246, 0.5233, 0.4289, 0.7911, 0.9999, 0.6711,\n",
            "        0.0439, 0.3083, 0.4495, 0.4261, 0.0715, 0.6632, 0.0472, 0.7078, 0.8399,\n",
            "        0.5325, 0.9489, 0.9897, 0.8938, 0.2557, 0.9458, 0.2499, 0.4720, 0.2674,\n",
            "        0.2550, 0.1197, 0.9501, 0.4634, 0.5433, 0.7766, 0.2441, 0.8037, 0.1720,\n",
            "        0.2813, 0.4323, 0.2669, 0.8457, 0.0577, 0.1467, 0.0631, 0.4731, 0.0542,\n",
            "        0.4881, 0.1524, 0.6465, 0.5926, 0.7595, 0.6151, 0.8661, 0.9223, 0.2078,\n",
            "        0.8887, 0.2963, 0.3736, 0.1146, 0.0621, 0.2557, 0.7372, 0.4492, 0.8410,\n",
            "        0.9406, 0.2898, 0.4772, 0.4343, 0.1013, 0.7354, 0.8471, 0.1317, 0.2474,\n",
            "        0.9978, 0.3718, 0.2679, 0.2212, 0.5673, 0.6105, 0.8009, 0.9130, 0.8583,\n",
            "        0.6353, 0.0378, 0.5076, 0.7006, 0.5277, 0.2298, 0.3042, 0.5421, 0.2766,\n",
            "        0.0271, 0.9327, 0.4036, 0.2898, 0.8553, 0.9105, 0.7811, 0.7438, 0.0162,\n",
            "        0.2628, 0.3314, 0.8516, 0.8874, 0.5660, 0.9214, 0.6636, 0.8977, 0.8239,\n",
            "        0.1860, 0.8082, 0.4413, 0.9117, 0.8877, 0.4006, 0.0035, 0.6244, 0.6838,\n",
            "        0.8544, 0.0862, 0.5727, 0.8549, 0.1600, 0.3288, 0.4080, 0.5411, 0.6807,\n",
            "        0.0602, 0.2428, 0.6199, 0.4233, 0.6061, 0.3750, 0.9503, 0.7960, 0.0911,\n",
            "        0.4752, 0.5839, 0.2651, 0.6420, 0.7567, 0.9962, 0.4685, 0.2187, 0.0254,\n",
            "        0.6177, 0.0919, 0.5694, 0.5018, 0.0603, 0.6030, 0.0257, 0.6889, 0.6621,\n",
            "        0.9607, 0.1179, 0.5858, 0.5538, 0.5049, 0.9338, 0.1412, 0.0198, 0.2477,\n",
            "        0.1373, 0.3208, 0.0557, 0.0319, 0.6164, 0.2220, 0.8896, 0.3832, 0.9841,\n",
            "        0.0655, 0.5873, 0.4718, 0.0678, 0.6384, 0.9631, 0.8955, 0.1353, 0.8355,\n",
            "        0.2687, 0.2937, 0.3965, 0.1570, 0.2718, 0.0555, 0.7202, 0.7624, 0.6011,\n",
            "        0.7295, 0.9541, 0.2208, 0.4881, 0.0083, 0.8873, 0.9261, 0.5039, 0.0851,\n",
            "        0.7936, 0.5327, 0.6910, 0.9263, 0.7292, 0.8597, 0.3227, 0.7951, 0.7804,\n",
            "        0.1822, 0.8153, 0.5307, 0.7153, 0.5935, 0.1469, 0.4757, 0.3882, 0.8852,\n",
            "        0.8860, 0.7792, 0.5378, 0.6878, 0.2812, 0.7763, 0.9412, 0.2526, 0.2812,\n",
            "        0.2829, 0.4599, 0.2667, 0.1471, 0.3216, 0.3752, 0.7839, 0.8954, 0.2948,\n",
            "        0.6383, 0.5369, 0.1923, 0.7462, 0.6019, 0.7058, 0.9320, 0.7098, 0.1072,\n",
            "        0.0497, 0.8801, 0.4909, 0.5525, 0.4219, 0.7005, 0.9618, 0.7956, 0.1384,\n",
            "        0.5971, 0.0884, 0.6665, 0.0092, 0.7378, 0.4615, 0.0529, 0.7707, 0.0875,\n",
            "        0.1739, 0.2984, 0.1932, 0.9296, 0.4004, 0.4968, 0.0888, 0.1766, 0.4845,\n",
            "        0.7081, 0.3117, 0.7402, 0.4217, 0.7423, 0.5527, 0.7745, 0.8149, 0.5638,\n",
            "        0.7669, 0.7083, 0.6102, 0.5079, 0.7657, 0.4286, 0.7182, 0.4858, 0.8809,\n",
            "        0.5468, 0.9286, 0.1304, 0.6281, 0.6883, 0.3037, 0.5399, 0.6552, 0.6716,\n",
            "        0.0517, 0.6951, 0.4210, 0.8042, 0.0670, 0.0246, 0.8230, 0.1907, 0.7880,\n",
            "        0.6250, 0.4788, 0.2040, 0.1431, 0.3948, 0.6130, 0.4573, 0.8528, 0.2184,\n",
            "        0.0249, 0.9131, 0.7033, 0.9421, 0.9172, 0.2898, 0.0480, 0.1267, 0.3077,\n",
            "        0.7577, 0.7090, 0.9489, 0.4482, 0.9228, 0.3894, 0.3371, 0.6610, 0.8807,\n",
            "        0.1366, 0.9043, 0.1544, 0.7725, 0.3229, 0.1360, 0.0256, 0.1241, 0.2532,\n",
            "        0.3659, 0.7758, 0.9246, 0.6939, 0.1352, 0.3879, 0.6526, 0.4293, 0.0123,\n",
            "        0.9148, 0.4433, 0.3449, 0.2903, 0.7179, 0.0385, 0.0571, 0.8756, 0.7162,\n",
            "        0.6857, 0.3726, 0.9949, 0.1173, 0.2453, 0.9210, 0.0298, 0.2443, 0.3061,\n",
            "        0.1687, 0.5750, 0.4242, 0.1806, 0.1190, 0.6166, 0.2270, 0.4001, 0.6023,\n",
            "        0.7506, 0.9456, 0.1257, 0.1974, 0.1833, 0.0915, 0.9642, 0.0905, 0.5256,\n",
            "        0.8594, 0.3397, 0.3161, 0.1177, 0.7005, 0.2776, 0.6664, 0.9754, 0.5588,\n",
            "        0.8457, 0.6147, 0.3704, 0.8479, 0.7358, 0.5710, 0.0079, 0.4379, 0.6604,\n",
            "        0.3217, 0.1352, 0.4828, 0.8130, 0.8440, 0.1685, 0.2097, 0.4601, 0.1695,\n",
            "        0.7318, 0.4919, 0.8944, 0.8834, 0.2632, 0.0029, 0.1731, 0.6568, 0.2757,\n",
            "        0.4521, 0.9913, 0.2043, 0.7947, 0.5660, 0.6429, 0.4656, 0.9726, 0.4821,\n",
            "        0.5280, 0.0454, 0.0486, 0.3710, 0.4344, 0.9959, 0.6492, 0.6735, 0.1892,\n",
            "        0.3936, 0.9884, 0.6001, 0.1771, 0.3021, 0.9333, 0.5408, 0.5383, 0.9960,\n",
            "        0.5805, 0.6564, 0.3401, 0.2244, 0.9653, 0.8831, 0.8161, 0.2734, 0.0341,\n",
            "        0.7023, 0.4266, 0.7860, 0.8450, 0.6382, 0.0446, 0.1439, 0.2975, 0.0605,\n",
            "        0.0053, 0.0827, 0.5760, 0.5455, 0.9203, 0.7965, 0.3852, 0.2179, 0.4352,\n",
            "        0.7238, 0.1473, 0.0978, 0.2104, 0.2200, 0.8037, 0.4661, 0.3387, 0.2800,\n",
            "        0.5552, 0.0394, 0.7826, 0.9816, 0.6789, 0.9993, 0.6614, 0.6654, 0.3825,\n",
            "        0.9313, 0.8493, 0.0472, 0.9830, 0.0368, 0.6586, 0.1669, 0.2799, 0.2126,\n",
            "        0.2650, 0.6776, 0.4682, 0.1664, 0.7675, 0.7535, 0.0586, 0.1813, 0.2030,\n",
            "        0.9856, 0.5954, 0.9312, 0.1823, 0.7384, 0.4088, 0.7929, 0.8441, 0.6641,\n",
            "        0.7805, 0.4398, 0.8696, 0.2708, 0.2169, 0.3349, 0.6575, 0.0971, 0.6484,\n",
            "        0.7940, 0.5180, 0.9604, 0.2872, 0.0454, 0.0303, 0.3477, 0.0800, 0.9748,\n",
            "        0.5520, 0.1710, 0.3408, 0.9902, 0.1742, 0.4395, 0.4519, 0.7332, 0.3090,\n",
            "        0.6912, 0.0043, 0.2806, 0.6175, 0.8212, 0.0898, 0.7647, 0.1262, 0.4778,\n",
            "        0.5729, 0.7416, 0.1142, 0.6235, 0.1579, 0.1607, 0.7628, 0.0349, 0.8234,\n",
            "        0.8700, 0.2821, 0.1810, 0.1751, 0.2510, 0.3883, 0.0644, 0.3280, 0.3352,\n",
            "        0.3656, 0.2821, 0.6868, 0.0032, 0.9203, 0.7251, 0.7052, 0.8378, 0.6655,\n",
            "        0.7505, 0.3385, 0.9619, 0.4401, 0.0130, 0.7426, 0.9446, 0.3843, 0.5716,\n",
            "        0.8219, 0.2368, 0.0742, 0.7723, 0.5936, 0.4556, 0.0709, 0.1216, 0.9658,\n",
            "        0.1995, 0.7133, 0.8094, 0.4459, 0.6268, 0.9869, 0.1499, 0.3210, 0.2226,\n",
            "        0.2095, 0.6067, 0.6275, 0.0980, 0.6605, 0.2541, 0.5921, 0.5783, 0.5962,\n",
            "        0.0133, 0.1885, 0.8671, 0.7043, 0.9182, 0.8798, 0.8919, 0.6236, 0.0113,\n",
            "        0.1704, 0.5935, 0.7288, 0.2387, 0.4718, 0.4032, 0.4006, 0.7062, 0.8027,\n",
            "        0.9252, 0.6259, 0.4082, 0.0628, 0.2066, 0.5448, 0.8213, 0.0068, 0.2603,\n",
            "        0.1852, 0.3380, 0.2763, 0.8884, 0.7104, 0.9818, 0.7779, 0.9080, 0.4039,\n",
            "        0.3042, 0.3753, 0.1711, 0.3930, 0.6052, 0.3379, 0.8292, 0.6305, 0.7683,\n",
            "        0.8884, 0.7473, 0.8838, 0.5306, 0.5328, 0.6356, 0.3147, 0.5539, 0.1463,\n",
            "        0.8186, 0.5168, 0.1927, 0.2990, 0.7444, 0.5213, 0.2499, 0.4462, 0.3506,\n",
            "        0.1123, 0.4031, 0.1267, 0.8984, 0.8912, 0.6633, 0.7014, 0.0377, 0.3645,\n",
            "        0.6664])\n"
          ]
        }
      ],
      "source": [
        "flatten = nn.Flatten()\n",
        "flat_image = flatten(input_image)\n",
        "print(flat_image.size())\n",
        "print(flat_image[0,:])"
      ]
    },
    {
      "cell_type": "markdown",
      "metadata": {
        "id": "OPW2Uj8GjTyM"
      },
      "source": [
        "nn.Linear\n",
        "=========\n",
        "\n",
        "The [linear\n",
        "layer](https://pytorch.org/docs/stable/generated/torch.nn.Linear.html)\n",
        "is a module that applies a linear transformation on the input using its\n",
        "stored weights and biases.\n"
      ]
    },
    {
      "cell_type": "code",
      "execution_count": 8,
      "metadata": {
        "colab": {
          "base_uri": "https://localhost:8080/"
        },
        "id": "BP624AdIjTyM",
        "outputId": "e3ac73a1-627d-4cc8-9fb7-2731137fd003"
      },
      "outputs": [
        {
          "output_type": "stream",
          "name": "stdout",
          "text": [
            "torch.Size([3, 20])\n"
          ]
        }
      ],
      "source": [
        "layer1 = nn.Linear(in_features=28*28, out_features=20)\n",
        "hidden1 = layer1(flat_image)\n",
        "print(hidden1.size())"
      ]
    },
    {
      "cell_type": "markdown",
      "metadata": {
        "id": "p-Cmi13KjTyM"
      },
      "source": [
        "nn.ReLU\n",
        "=======\n",
        "\n",
        "Non-linear activations are what create the complex mappings between the\n",
        "model\\'s inputs and outputs. They are applied after linear\n",
        "transformations to introduce *nonlinearity*, helping neural networks\n",
        "learn a wide variety of phenomena.\n",
        "\n",
        "In this model, we use\n",
        "[nn.ReLU](https://pytorch.org/docs/stable/generated/torch.nn.ReLU.html)\n",
        "between our linear layers, but there\\'s other activations to introduce\n",
        "non-linearity in your model.\n"
      ]
    },
    {
      "cell_type": "code",
      "execution_count": 9,
      "metadata": {
        "colab": {
          "base_uri": "https://localhost:8080/"
        },
        "id": "sXnUanqwjTyM",
        "outputId": "72f975bd-a68c-4e10-c272-befa24519e1d"
      },
      "outputs": [
        {
          "output_type": "stream",
          "name": "stdout",
          "text": [
            "Before ReLU: tensor([[-0.1994, -0.1603, -0.4447,  0.3568,  0.0298,  0.3376,  0.2353, -0.0549,\n",
            "         -0.2487, -0.0442, -0.0521,  0.1456,  0.1278, -0.0381,  0.2933, -0.3332,\n",
            "         -0.5531, -0.4041, -0.0293,  0.0159],\n",
            "        [-0.6827,  0.0952, -0.5183, -0.0834, -0.2009,  0.4886,  0.1158,  0.1032,\n",
            "          0.0063,  0.2800, -0.0853, -0.1937,  0.2947, -0.1860,  0.2841, -0.3013,\n",
            "         -0.8171, -0.4126, -0.3823, -0.0673],\n",
            "        [-0.1918,  0.2631, -0.2424, -0.0861, -0.2826,  0.0991,  0.3610, -0.1972,\n",
            "         -0.3754, -0.0395, -0.2175, -0.0921,  0.6085,  0.1993, -0.0888, -0.6357,\n",
            "         -0.4215, -0.4035, -0.1804,  0.2023]], grad_fn=<AddmmBackward0>)\n",
            "\n",
            "\n",
            "After ReLU: tensor([[0.0000, 0.0000, 0.0000, 0.3568, 0.0298, 0.3376, 0.2353, 0.0000, 0.0000,\n",
            "         0.0000, 0.0000, 0.1456, 0.1278, 0.0000, 0.2933, 0.0000, 0.0000, 0.0000,\n",
            "         0.0000, 0.0159],\n",
            "        [0.0000, 0.0952, 0.0000, 0.0000, 0.0000, 0.4886, 0.1158, 0.1032, 0.0063,\n",
            "         0.2800, 0.0000, 0.0000, 0.2947, 0.0000, 0.2841, 0.0000, 0.0000, 0.0000,\n",
            "         0.0000, 0.0000],\n",
            "        [0.0000, 0.2631, 0.0000, 0.0000, 0.0000, 0.0991, 0.3610, 0.0000, 0.0000,\n",
            "         0.0000, 0.0000, 0.0000, 0.6085, 0.1993, 0.0000, 0.0000, 0.0000, 0.0000,\n",
            "         0.0000, 0.2023]], grad_fn=<ReluBackward0>)\n"
          ]
        }
      ],
      "source": [
        "print(f\"Before ReLU: {hidden1}\\n\\n\")\n",
        "hidden1 = nn.ReLU()(hidden1)\n",
        "print(f\"After ReLU: {hidden1}\")"
      ]
    },
    {
      "cell_type": "markdown",
      "metadata": {
        "id": "7d6xgj8wjTyM"
      },
      "source": [
        "nn.Sequential\n",
        "=============\n",
        "\n",
        "[nn.Sequential](https://pytorch.org/docs/stable/generated/torch.nn.Sequential.html)\n",
        "is an ordered container of modules. The data is passed through all the\n",
        "modules in the same order as defined. You can use sequential containers\n",
        "to put together a quick network like `seq_modules`.\n"
      ]
    },
    {
      "cell_type": "code",
      "execution_count": 10,
      "metadata": {
        "id": "3VF3ZFh_jTyM"
      },
      "outputs": [],
      "source": [
        "seq_modules = nn.Sequential(\n",
        "    flatten,\n",
        "    layer1,\n",
        "    nn.ReLU(),\n",
        "    nn.Linear(20, 10)\n",
        ")\n",
        "input_image = torch.rand(3,28,28)\n",
        "logits = seq_modules(input_image)"
      ]
    },
    {
      "cell_type": "code",
      "source": [
        "print(input_image)\n",
        "print(logits)"
      ],
      "metadata": {
        "id": "w2HatVS01kwj",
        "outputId": "6ef94e44-bdcc-481c-f6f9-9c7fd57d6b26",
        "colab": {
          "base_uri": "https://localhost:8080/"
        }
      },
      "execution_count": 11,
      "outputs": [
        {
          "output_type": "stream",
          "name": "stdout",
          "text": [
            "tensor([[[0.1135, 0.3164, 0.8281,  ..., 0.5957, 0.4962, 0.6378],\n",
            "         [0.8947, 0.2226, 0.5206,  ..., 0.9608, 0.7351, 0.8836],\n",
            "         [0.8643, 0.7474, 0.8914,  ..., 0.4255, 0.8408, 0.2419],\n",
            "         ...,\n",
            "         [0.3210, 0.2226, 0.2095,  ..., 0.4032, 0.4006, 0.7062],\n",
            "         [0.8027, 0.9252, 0.6259,  ..., 0.8292, 0.6305, 0.7683],\n",
            "         [0.8884, 0.7473, 0.8838,  ..., 0.0377, 0.3645, 0.6664]],\n",
            "\n",
            "        [[0.9962, 0.8877, 0.0047,  ..., 0.6993, 0.5356, 0.3198],\n",
            "         [0.7102, 0.3253, 0.4189,  ..., 0.5765, 0.5519, 0.8552],\n",
            "         [0.6896, 0.8164, 0.6124,  ..., 0.8906, 0.7304, 0.6199],\n",
            "         ...,\n",
            "         [0.2450, 0.1443, 0.6660,  ..., 0.9829, 0.1814, 0.5767],\n",
            "         [0.0673, 0.9138, 0.3999,  ..., 0.1373, 0.9186, 0.8238],\n",
            "         [0.0387, 0.5599, 0.2214,  ..., 0.8037, 0.3250, 0.2255]],\n",
            "\n",
            "        [[0.5718, 0.0831, 0.3239,  ..., 0.1859, 0.0696, 0.5957],\n",
            "         [0.1569, 0.1214, 0.0369,  ..., 0.7444, 0.2102, 0.6977],\n",
            "         [0.0294, 0.9777, 0.6493,  ..., 0.0904, 0.3447, 0.4820],\n",
            "         ...,\n",
            "         [0.4116, 0.3436, 0.7813,  ..., 0.6734, 0.2686, 0.5768],\n",
            "         [0.6123, 0.8075, 0.2516,  ..., 0.5842, 0.7466, 0.3489],\n",
            "         [0.3307, 0.6880, 0.9042,  ..., 0.0033, 0.3809, 0.2473]]])\n",
            "tensor([[-0.1363, -0.0175,  0.1771,  0.1808, -0.0567, -0.1095, -0.2085, -0.0313,\n",
            "          0.0214, -0.2860],\n",
            "        [-0.1795,  0.0718,  0.0963,  0.2412, -0.1790, -0.0733, -0.0721, -0.2111,\n",
            "          0.0058, -0.2190],\n",
            "        [-0.0679,  0.0113,  0.1369,  0.1444, -0.1149, -0.1702, -0.2689, -0.1094,\n",
            "          0.0949, -0.2747]], grad_fn=<AddmmBackward0>)\n"
          ]
        }
      ]
    },
    {
      "cell_type": "markdown",
      "metadata": {
        "id": "g9MEu1AAjTyM"
      },
      "source": [
        "nn.Softmax\n",
        "==========\n",
        "\n",
        "The last linear layer of the neural network returns [logits]{.title-ref}\n",
        "- raw values in \\[-infty, infty\\] - which are passed to the\n",
        "[nn.Softmax](https://pytorch.org/docs/stable/generated/torch.nn.Softmax.html)\n",
        "module. The logits are scaled to values \\[0, 1\\] representing the\n",
        "model\\'s predicted probabilities for each class. `dim` parameter\n",
        "indicates the dimension along which the values must sum to 1.\n"
      ]
    },
    {
      "cell_type": "code",
      "execution_count": 12,
      "metadata": {
        "id": "5tFmgVWJjTyN"
      },
      "outputs": [],
      "source": [
        "softmax = nn.Softmax(dim=1)\n",
        "pred_probab = softmax(logits)"
      ]
    },
    {
      "cell_type": "code",
      "source": [
        "print(softmax)\n",
        "print(pred_probab)"
      ],
      "metadata": {
        "id": "gnVAiKAO1vUO",
        "outputId": "3c6c656a-8f1d-412c-f84b-825e1d80aa55",
        "colab": {
          "base_uri": "https://localhost:8080/"
        }
      },
      "execution_count": 13,
      "outputs": [
        {
          "output_type": "stream",
          "name": "stdout",
          "text": [
            "Softmax(dim=1)\n",
            "tensor([[0.0905, 0.1019, 0.1238, 0.1243, 0.0980, 0.0930, 0.0842, 0.1005, 0.1060,\n",
            "         0.0779],\n",
            "        [0.0871, 0.1119, 0.1147, 0.1326, 0.0871, 0.0968, 0.0969, 0.0844, 0.1048,\n",
            "         0.0837],\n",
            "        [0.0983, 0.1064, 0.1207, 0.1216, 0.0938, 0.0888, 0.0804, 0.0943, 0.1157,\n",
            "         0.0800]], grad_fn=<SoftmaxBackward0>)\n"
          ]
        }
      ]
    },
    {
      "cell_type": "markdown",
      "metadata": {
        "id": "Z2K1KvmbjTyN"
      },
      "source": [
        "Model Parameters\n",
        "================\n",
        "\n",
        "Many layers inside a neural network are *parameterized*, i.e. have\n",
        "associated weights and biases that are optimized during training.\n",
        "Subclassing `nn.Module` automatically tracks all fields defined inside\n",
        "your model object, and makes all parameters accessible using your\n",
        "model\\'s `parameters()` or `named_parameters()` methods.\n",
        "\n",
        "In this example, we iterate over each parameter, and print its size and\n",
        "a preview of its values.\n"
      ]
    },
    {
      "cell_type": "code",
      "execution_count": 14,
      "metadata": {
        "colab": {
          "base_uri": "https://localhost:8080/"
        },
        "id": "slVf_Vw_jTyN",
        "outputId": "7409a533-f8e6-47b2-b7f2-08e5bd1a0806"
      },
      "outputs": [
        {
          "output_type": "stream",
          "name": "stdout",
          "text": [
            "Model structure: NeuralNetwork(\n",
            "  (flatten): Flatten(start_dim=1, end_dim=-1)\n",
            "  (linear_relu_stack): Sequential(\n",
            "    (0): Linear(in_features=784, out_features=512, bias=True)\n",
            "    (1): ReLU()\n",
            "    (2): Linear(in_features=512, out_features=512, bias=True)\n",
            "    (3): ReLU()\n",
            "    (4): Linear(in_features=512, out_features=10, bias=True)\n",
            "  )\n",
            ")\n",
            "\n",
            "\n",
            "Layer: linear_relu_stack.0.weight | Size: torch.Size([512, 784]) | Values : tensor([[-0.0100,  0.0339,  0.0198,  ...,  0.0094,  0.0073,  0.0184],\n",
            "        [ 0.0225, -0.0259,  0.0269,  ...,  0.0030,  0.0220,  0.0095]],\n",
            "       grad_fn=<SliceBackward0>) \n",
            "\n",
            "Layer: linear_relu_stack.0.bias | Size: torch.Size([512]) | Values : tensor([-0.0222,  0.0220], grad_fn=<SliceBackward0>) \n",
            "\n",
            "Layer: linear_relu_stack.2.weight | Size: torch.Size([512, 512]) | Values : tensor([[-0.0030, -0.0102,  0.0292,  ...,  0.0075,  0.0110, -0.0320],\n",
            "        [-0.0114,  0.0316, -0.0423,  ...,  0.0437, -0.0403,  0.0025]],\n",
            "       grad_fn=<SliceBackward0>) \n",
            "\n",
            "Layer: linear_relu_stack.2.bias | Size: torch.Size([512]) | Values : tensor([-0.0415, -0.0076], grad_fn=<SliceBackward0>) \n",
            "\n",
            "Layer: linear_relu_stack.4.weight | Size: torch.Size([10, 512]) | Values : tensor([[-0.0196, -0.0153, -0.0015,  ...,  0.0333, -0.0327,  0.0106],\n",
            "        [ 0.0122, -0.0020,  0.0136,  ...,  0.0156,  0.0346, -0.0272]],\n",
            "       grad_fn=<SliceBackward0>) \n",
            "\n",
            "Layer: linear_relu_stack.4.bias | Size: torch.Size([10]) | Values : tensor([-0.0386, -0.0290], grad_fn=<SliceBackward0>) \n",
            "\n"
          ]
        }
      ],
      "source": [
        "print(f\"Model structure: {model}\\n\\n\")\n",
        "\n",
        "for name, param in model.named_parameters():\n",
        "    print(f\"Layer: {name} | Size: {param.size()} | Values : {param[:2]} \\n\")"
      ]
    },
    {
      "cell_type": "markdown",
      "metadata": {
        "id": "DOSOPVXYjTyN"
      },
      "source": [
        "------------------------------------------------------------------------\n"
      ]
    },
    {
      "cell_type": "markdown",
      "metadata": {
        "id": "DMWh6SvHjTyN"
      },
      "source": [
        "Further Reading\n",
        "===============\n",
        "\n",
        "-   [torch.nn API](https://pytorch.org/docs/stable/nn.html)\n"
      ]
    }
  ],
  "metadata": {
    "kernelspec": {
      "display_name": "Python 3",
      "language": "python",
      "name": "python3"
    },
    "language_info": {
      "codemirror_mode": {
        "name": "ipython",
        "version": 3
      },
      "file_extension": ".py",
      "mimetype": "text/x-python",
      "name": "python",
      "nbconvert_exporter": "python",
      "pygments_lexer": "ipython3",
      "version": "3.10.12"
    },
    "colab": {
      "provenance": []
    }
  },
  "nbformat": 4,
  "nbformat_minor": 0
}